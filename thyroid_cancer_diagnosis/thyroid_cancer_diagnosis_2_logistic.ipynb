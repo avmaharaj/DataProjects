{
 "cells": [
  {
   "cell_type": "markdown",
   "metadata": {},
   "source": [
    "# Machine Learning for Thyroid Cancer Diagnosis.\n",
    "##  Part 2: Logistic regression\n",
    "**The project was done with Rajiv Krishnakumar and Raghu Mahajan.**\n",
    "\n",
    "The essential goal was to predict thyroid cancer given gene expressions. A key hope is to definitively predict benign samples; this helps to avoid unnecessary surgeries, which often turn out to be much more problematic to a patient's health, than the thyroid cancer itself.\n",
    "\n",
    "\n",
    "- The data used here is pre-normalized, to mean zero and standard deviation 1. \n",
    "- The essentials of the data set are 265 patients whose biopsies were inconclusive, each with 173 reported gene expression levels. \n",
    "- There were a further 102 patients with 'conclusive' biopsies - i.e. a human determination of benign vs. malignant, to give 367 total patients.\n",
    "\n",
    "Here is an abstract from our final report:\n",
    "\n",
    "*We investigate the use of high throughput gene expression data in the diagnosis of thyroid cancers. Using logistic regression and support vector machines (SVMs), we develop a classifier which gives similar performance (89% sensitivity and 80% specificity) to the currently best- known classifier, but uses significantly fewer features. We used two different techniques, principal components analysis and mutual information score, to select features. The results do not depend significantly on which method is used for feature selection.*\n",
    "\n",
    "The breakdown of topics covered in each notebook is as follows:\n",
    "1. Data visualization, including PCA and tSNE visualizations.\n",
    "2. Logistic regression, with feature selection using different regularizers or different numbers of Principal components.\n",
    "3. SVMs with and without box constraints, and also using different kernel functions."
   ]
  },
  {
   "cell_type": "code",
   "execution_count": 24,
   "metadata": {
    "collapsed": false,
    "scrolled": true
   },
   "outputs": [],
   "source": [
    "#As usual import some modules and import the dataset\n",
    "import pandas as pd\n",
    "import numpy as np\n",
    "import seaborn as sns\n",
    "import matplotlib.pyplot as plt\n",
    "%matplotlib inline\n",
    "\n",
    "#import the data and look at it\n",
    "X = pd.read_csv(\"data/normalized_data_265.csv\", header =None)\n",
    "y = pd.read_csv(\"data/outcome_265.csv\", header = None)\n",
    "\n",
    "\n",
    "X_full = pd.read_csv(\"data/normalized_data_367.csv\", header =None)\n",
    "y_full = pd.read_csv(\"data/outcome_367.csv\", header = None)\n",
    "\n",
    "\n",
    "\n",
    "#Now turn these into numpy arrays to avoid problems with pandas dataframes\n",
    "X = X.as_matrix()\n",
    "y = y.as_matrix().reshape(len(y))\n",
    "X_full = X_full.as_matrix()\n",
    "y_full = y_full.as_matrix().reshape(len(y_full))\n"
   ]
  },
  {
   "cell_type": "markdown",
   "metadata": {},
   "source": [
    "## Logistic regression \n",
    "\n",
    "A simple and straightforward first pass is always a logistic regression."
   ]
  },
  {
   "cell_type": "code",
   "execution_count": 25,
   "metadata": {
    "collapsed": false
   },
   "outputs": [
    {
     "name": "stdout",
     "output_type": "stream",
     "text": [
      "-----Results of train-test split-----\n",
      "(212, 173)\n",
      "(212,)\n",
      "(53, 173)\n",
      "(53,)\n",
      "\n",
      "-----Logistic Regression-----\n",
      "\n",
      "Training accuracy:  1.0\n",
      "Test set accuracy:  0.849056603774\n"
     ]
    }
   ],
   "source": [
    "from sklearn.cross_validation import train_test_split\n",
    "from sklearn.linear_model import LogisticRegression\n",
    "\n",
    "\n",
    "\n",
    "#First perform a train-test split\n",
    "X_train, X_test, y_train, y_test = train_test_split(X, y, test_size = 0.2)\n",
    "\n",
    "print \"-----Results of train-test split-----\"\n",
    "print(X_train.shape)\n",
    "print(y_train.shape)\n",
    "print(X_test.shape)\n",
    "print(y_test.shape)\n",
    "\n",
    "\n",
    "\n",
    "\n",
    "#Now perform the logistic regression\n",
    "logit_bare = LogisticRegression(random_state = 1, solver = 'liblinear')\n",
    "logit_bare.fit(X_train, y_train)\n",
    "\n",
    "\n",
    "print \"\"\n",
    "print \"-----Logistic Regression-----\"\n",
    "print \"\"\n",
    "print \"Training accuracy: \",logit_bare.score(X_train,y_train)\n",
    "print \"Test set accuracy: \",logit_bare.score(X_test,y_test)"
   ]
  },
  {
   "cell_type": "markdown",
   "metadata": {
    "collapsed": true
   },
   "source": [
    "Ok - there is clearly some overfitting going on. We have 100% accuracy on the training set, but 70-80% accuracy on the test set. Let's break it down further by looking at commonly used metrics in biology:\n",
    "\n",
    "$ \\text{sensitivity} = \\frac{\\text{true_positive}}{\\text{actual_condition_positive}}$ and \n",
    "$ \\text{specificity} = \\frac{\\text{true_negative}}{\\text{ actual_condition_negative}}$"
   ]
  },
  {
   "cell_type": "code",
   "execution_count": 26,
   "metadata": {
    "collapsed": false
   },
   "outputs": [
    {
     "name": "stdout",
     "output_type": "stream",
     "text": [
      "Test Specificity = 0.906976744186\n",
      "Test Sensitivity = 0.6\n",
      "Total Specificity = 0.977777777778\n",
      "Total Sensitivity = 0.952941176471\n"
     ]
    }
   ],
   "source": [
    "from sklearn.metrics import confusion_matrix\n",
    "\n",
    "y_pred_test = logit_bare.predict(X_test)\n",
    "y_pred_full = logit_bare.predict(X)\n",
    "\n",
    "confusion_test = confusion_matrix(y_test,y_pred_test)\n",
    "confusion_full = confusion_matrix(y,y_pred_full)\n",
    "\n",
    "print \"Test Specificity =\", confusion_test[0,0]/(1.0*(confusion_test[0,0] + confusion_test[0,1]))\n",
    "print \"Test Sensitivity =\", confusion_test[1,1]/(1.0*(confusion_test[1,0] + confusion_test[1,1]))\n",
    "\n",
    "print \"Total Specificity =\", confusion_full[0,0]/(1.0*(confusion_full[0,0] + confusion_full[0,1]))\n",
    "print \"Total Sensitivity =\", confusion_full[1,1]/(1.0*(confusion_full[1,0] + confusion_full[1,1]))"
   ]
  },
  {
   "cell_type": "markdown",
   "metadata": {},
   "source": [
    "## Logistic regression with L1 and L2 regulators.\n",
    "\n",
    "To avoid overfitting, we should introduce a regulator. Here we use GridSearchCV to loop over L1 and L2 type regulators, of different strengths, and find the best model"
   ]
  },
  {
   "cell_type": "code",
   "execution_count": 32,
   "metadata": {
    "collapsed": false
   },
   "outputs": [
    {
     "name": "stdout",
     "output_type": "stream",
     "text": [
      "Best Paramters:  {'penalty': 'l1', 'C': 1.0}\n",
      "\n",
      "-----Accuracies on Indeterminate samples (265 Patients)-----\n",
      "Final accuracy:  0.969811320755\n",
      "Specificity = 0.994444444444\n",
      "Sensitivity = 0.917647058824\n",
      "\n",
      "-----Accuracies on Full Data Set (367 Patients)-----\n",
      "Final accuracy:  0.931880108992\n",
      "Total Specificity, full data set = 1.0\n",
      "Total Sensitivity, full data set = 0.825174825175\n"
     ]
    }
   ],
   "source": [
    "from sklearn import linear_model\n",
    "from sklearn.grid_search import GridSearchCV\n",
    "\n",
    "logistic = linear_model.LogisticRegression()\n",
    "parameters = {'penalty':('l1', 'l2'), 'C':np.logspace(-4, 4, 3)}\n",
    "\n",
    "estimator = GridSearchCV(logistic,parameters, cv = 5)\n",
    "estimator.fit(X,y)\n",
    "\n",
    "print \"Best Paramters: \", estimator.best_params_\n",
    "\n",
    "\n",
    "\n",
    "y_pred = estimator.best_estimator_.predict(X)\n",
    "confusion= confusion_matrix(y,y_pred)\n",
    "\n",
    "y_pred_full = estimator.best_estimator_.predict(X_full)\n",
    "confusion_full = confusion_matrix(y_full,y_pred_full)\n",
    "print \"\"\n",
    "print \"-----Accuracies on Indeterminate samples (265 Patients)-----\"\n",
    "print \"Final accuracy: \",estimator.best_estimator_.score(X,y)\n",
    "print \"Specificity =\", confusion[0,0]/(1.0*(confusion[0,0] + confusion[0,1]))\n",
    "print \"Sensitivity =\", confusion[1,1]/(1.0*(confusion[1,0] + confusion[1,1]))\n",
    "print \"\"\n",
    "print \"-----Accuracies on Full Data Set (367 Patients)-----\"\n",
    "print \"Final accuracy: \",estimator.best_estimator_.score(X_full,y_full)\n",
    "print \"Total Specificity, full data set =\", confusion_full[0,0]/(1.0*(confusion_full[0,0] + confusion_full[0,1]))\n",
    "print \"Total Sensitivity, full data set =\", confusion_full[1,1]/(1.0*(confusion_full[1,0] + confusion_full[1,1]))"
   ]
  },
  {
   "cell_type": "code",
   "execution_count": 33,
   "metadata": {
    "collapsed": false
   },
   "outputs": [
    {
     "data": {
      "text/plain": [
       "79"
      ]
     },
     "execution_count": 33,
     "metadata": {},
     "output_type": "execute_result"
    }
   ],
   "source": [
    "#An l1 regulator will lead to an automatic reduction \n",
    "# in the number of features used by the logistic regression.\n",
    "#Let us count the number of features used:\n",
    "np.count_nonzero(estimator.best_estimator_.coef_)"
   ]
  },
  {
   "cell_type": "markdown",
   "metadata": {},
   "source": [
    "### Guarding against overfitting\n",
    "So the above numbers look really great, but just to check that we're not overfitting, let's do a train-test split once more."
   ]
  },
  {
   "cell_type": "code",
   "execution_count": 39,
   "metadata": {
    "collapsed": false
   },
   "outputs": [
    {
     "name": "stdout",
     "output_type": "stream",
     "text": [
      "Best Paramters:  {'penalty': 'l2', 'C': 1.0}\n",
      "Train accuracy:  0.77358490566\n",
      "Test accuracy:  0.77358490566\n",
      "Test Set Specificity = 0.825\n",
      "Test Set Sensitivity = 0.615384615385\n"
     ]
    }
   ],
   "source": [
    "#First perform a train-test split\n",
    "X_train, X_test, y_train, y_test = train_test_split(X, y, test_size = 0.2)\n",
    "\n",
    "#Train on the training set\n",
    "logistic = linear_model.LogisticRegression()\n",
    "parameters = {'penalty':('l1', 'l2'), 'C':np.logspace(-4, 4, 3)}\n",
    "\n",
    "estimator = GridSearchCV(logistic,parameters, cv = 8)\n",
    "estimator.fit(X_train,y_train)\n",
    "\n",
    "#Now use the test set\n",
    "print \"Best Paramters: \", estimator.best_params_\n",
    "print \"Train accuracy: \",estimator.best_estimator_.score(X_test,y_test)\n",
    "print \"Test accuracy: \",estimator.best_estimator_.score(X_test,y_test)\n",
    "\n",
    "\n",
    "y_pred_test = estimator.best_estimator_.predict(X_test)\n",
    "confusion_test = confusion_matrix(y_test,y_pred_test)\n",
    "\n",
    "print \"Test Set Specificity =\", confusion_test[0,0]/(1.0*(confusion_test[0,0] + confusion_test[0,1]))\n",
    "print \"Test Set Sensitivity =\", confusion_test[1,1]/(1.0*(confusion_test[1,0] + confusion_test[1,1]))"
   ]
  },
  {
   "cell_type": "markdown",
   "metadata": {},
   "source": [
    "So maybe those numbers weren't that great after all!?"
   ]
  },
  {
   "cell_type": "markdown",
   "metadata": {},
   "source": [
    "## PCA + Logistic regression pipeline\n",
    "We can adopt an *even more*  more principled approach by first doing PCA on the bare data, then logistic regression on this.\n",
    "\n",
    "I do this by following the python example of \"Pipeline\" - where we use GridSearchCV to apply cross validation and search over multiple values of pca components and logistic regression penalties."
   ]
  },
  {
   "cell_type": "code",
   "execution_count": 41,
   "metadata": {
    "collapsed": false
   },
   "outputs": [
    {
     "data": {
      "image/png": "[encoded data removed]",
      "text/plain": [
       "<matplotlib.figure.Figure at 0x11eb5e790>"
      ]
     },
     "metadata": {},
     "output_type": "display_data"
    },
    {
     "name": "stdout",
     "output_type": "stream",
     "text": [
      "Best Paramters:  {'logistic__C': 1.0, 'pca__n_components': 40}\n",
      "Final accuracy:  0.88679245283\n",
      "Total Specificity = 0.95\n",
      "Total Sensitivity = 0.752941176471\n"
     ]
    }
   ],
   "source": [
    "from sklearn import decomposition, linear_model\n",
    "from sklearn.pipeline import Pipeline\n",
    "from sklearn.grid_search import GridSearchCV\n",
    "\n",
    "logistic = linear_model.LogisticRegression()\n",
    "\n",
    "pca = decomposition.PCA()\n",
    "pipe = Pipeline(steps=[('pca', pca), ('logistic', logistic)])\n",
    "\n",
    "\n",
    "\n",
    "###############################################################################\n",
    "# Plot the PCA spectrum\n",
    "pca.fit(X)\n",
    "\n",
    "plt.figure(1, figsize=(6, 4))\n",
    "plt.clf()\n",
    "plt.axes([.2, .2, .7, .7])\n",
    "plt.plot(pca.explained_variance_, linewidth=2)\n",
    "plt.axis('tight')\n",
    "plt.xlabel('n_components')\n",
    "plt.ylabel('explained_variance')\n",
    "\n",
    "###############################################################################\n",
    "# Prediction\n",
    "\n",
    "n_components = [20, 40, 60, 80, 100, 120, 140]\n",
    "Cs = np.logspace(-4, 4, 3)\n",
    "\n",
    "#Parameters of pipelines can be set using ‘__’ separated parameter names:\n",
    "\n",
    "estimator = GridSearchCV(pipe,\n",
    "                         dict(pca__n_components=n_components,\n",
    "                              logistic__C=Cs))\n",
    "estimator.fit(X, y)\n",
    "\n",
    "plt.axvline(estimator.best_estimator_.named_steps['pca'].n_components,\n",
    "            linestyle=':', label='n_components chosen')\n",
    "plt.legend(prop=dict(size=12))\n",
    "plt.show()\n",
    "\n",
    "print \"Best Paramters: \", estimator.best_params_\n",
    "print \"Final accuracy: \",estimator.best_estimator_.score(X,y)\n",
    "\n",
    "\n",
    "y_pred_full = estimator.best_estimator_.predict(X)\n",
    "confusion_full = confusion_matrix(y,y_pred_full)\n",
    "\n",
    "print \"Total Specificity =\", confusion_full[0,0]/(1.0*(confusion_full[0,0] + confusion_full[0,1]))\n",
    "print \"Total Sensitivity =\", confusion_full[1,1]/(1.0*(confusion_full[1,0] + confusion_full[1,1]))"
   ]
  },
  {
   "cell_type": "code",
   "execution_count": null,
   "metadata": {
    "collapsed": true
   },
   "outputs": [],
   "source": []
  }
 ],
 "metadata": {
  "kernelspec": {
   "display_name": "Python 2",
   "language": "python",
   "name": "python2"
  },
  "language_info": {
   "codemirror_mode": {
    "name": "ipython",
    "version": 2
   },
   "file_extension": ".py",
   "mimetype": "text/x-python",
   "name": "python",
   "nbconvert_exporter": "python",
   "pygments_lexer": "ipython2",
   "version": "2.7.12"
  }
 },
 "nbformat": 4,
 "nbformat_minor": 0
}
